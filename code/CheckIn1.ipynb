{
 "cells": [
  {
   "cell_type": "markdown",
   "metadata": {},
   "source": [
    "Captsone Ideas:\n",
    "\n",
    "1. Manatee Identification\n",
    "USGS maintains a database of images of manatees, the Manatee Individual Photo Identification System (MIPS). MIPS images are labeled with the ID of the manatee they depict. Currently, manatee identification is done manually by comparing scar charts documenting unique markings (mostly scars from healed boat strikes). If I can get access to the MIPS database, I could attempt to build a convolutional neural network to automatically match images to individual known manatees, or at least narrow down to a small number of potential manatees to streamline identification. The main metric would be the accuracy of the classification, the audience would be the biological researchers who built and maintain MIPS, and the benefit would be to manatee tracking and through that, research and conservation. This is my preferred capstone proposal, but is entirely contingent on being given access to MIPS by the team at USGS. \n",
    "\n",
    "2. Science Fiction\n",
    "Science fiction is a reflection of the context in which it is written, capturing an image of society's feelings towards the future and present, of hopes and fears. Using an online repository of science fiction literature (several of these seem to exist, including one of free ebooks on Project Gutenberg) I would use NLP to look at the trends in sentiment and word choice over time, seeing if clear trends exist and if they correspond to real events in the world or economic trends. \n",
    "\n",
    "3. War Memorials\n",
    "My undergraduate thesis focused on war memorials and I would love to continue that research and undertake a capstone which plays to my interests and strengths. War memorial datasets seem to be difficult to come by and it would likely be prohibitively time-consuming to create my own, but there do seem to be a couple out there. In particular, I found a table documenting all of the war memorials in the city of Leeds, UK listing metadata and location. It could be interesting to compare with census or other data from the city of Leeds and see if trends emerge. "
   ]
  }
 ],
 "metadata": {
  "kernelspec": {
   "display_name": "Python 3",
   "language": "python",
   "name": "python3"
  },
  "language_info": {
   "codemirror_mode": {
    "name": "ipython",
    "version": 3
   },
   "file_extension": ".py",
   "mimetype": "text/x-python",
   "name": "python",
   "nbconvert_exporter": "python",
   "pygments_lexer": "ipython3",
   "version": "3.7.4"
  }
 },
 "nbformat": 4,
 "nbformat_minor": 4
}
