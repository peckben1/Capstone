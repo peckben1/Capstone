{
 "cells": [
  {
   "cell_type": "markdown",
   "metadata": {},
   "source": [
    "As of 3-3-20, the capstone project is progressing well. All of the data is in hand and has been through cleaning and EDA. I haven't yet begun modeling, but do not foresee any major stumbling blocks. The one major issue I currently face is the complexity of the region library I intend to use to generate geographically contiguous clusters. At minimum, I'll be able to create some linear regression models and non-contiguous clusters on my current data. I'd like to explore some different models and especially get the contiguous clusters working, and ideally I'd love to add more county-level data to my current pool, which should be fairly easy with so much FIPS-coded data available through data.gov - if, that is, I have time."
   ]
  },
  {
   "cell_type": "code",
   "execution_count": null,
   "metadata": {},
   "outputs": [],
   "source": []
  }
 ],
 "metadata": {
  "kernelspec": {
   "display_name": "Python 3",
   "language": "python",
   "name": "python3"
  },
  "language_info": {
   "codemirror_mode": {
    "name": "ipython",
    "version": 3
   },
   "file_extension": ".py",
   "mimetype": "text/x-python",
   "name": "python",
   "nbconvert_exporter": "python",
   "pygments_lexer": "ipython3",
   "version": "3.8.1"
  }
 },
 "nbformat": 4,
 "nbformat_minor": 4
}
