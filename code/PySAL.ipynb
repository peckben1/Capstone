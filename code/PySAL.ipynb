{
 "cells": [
  {
   "cell_type": "code",
   "execution_count": 1,
   "metadata": {},
   "outputs": [
    {
     "name": "stderr",
     "output_type": "stream",
     "text": [
      "/opt/anaconda3/envs/shrek/lib/python3.8/site-packages/pysal/explore/segregation/network/network.py:15: UserWarning: You need pandana and urbanaccess to work with segregation's network module\n",
      "You can install them with  `pip install urbanaccess pandana` or `conda install -c udst pandana urbanaccess`\n",
      "  warn(\n",
      "/opt/anaconda3/envs/shrek/lib/python3.8/site-packages/pysal/model/spvcm/abstracts.py:10: UserWarning: The `dill` module is required to use the sqlite backend fully.\n",
      "  from .sqlite import head_to_sql, start_sql\n"
     ]
    }
   ],
   "source": [
    "import numpy as np\n",
    "import pandas as pd\n",
    "import geopandas as gpd\n",
    "import pysal as ps\n",
    "import region"
   ]
  },
  {
   "cell_type": "code",
   "execution_count": 2,
   "metadata": {},
   "outputs": [],
   "source": [
    "geo = gpd.read_file(\"./cb_2015_us_county_20m/cb_2015_us_county_20m.shp\")"
   ]
  },
  {
   "cell_type": "code",
   "execution_count": 3,
   "metadata": {},
   "outputs": [
    {
     "data": {
      "text/html": [
       "<div>\n",
       "<style scoped>\n",
       "    .dataframe tbody tr th:only-of-type {\n",
       "        vertical-align: middle;\n",
       "    }\n",
       "\n",
       "    .dataframe tbody tr th {\n",
       "        vertical-align: top;\n",
       "    }\n",
       "\n",
       "    .dataframe thead th {\n",
       "        text-align: right;\n",
       "    }\n",
       "</style>\n",
       "<table border=\"1\" class=\"dataframe\">\n",
       "  <thead>\n",
       "    <tr style=\"text-align: right;\">\n",
       "      <th></th>\n",
       "      <th>STATEFP</th>\n",
       "      <th>COUNTYFP</th>\n",
       "      <th>COUNTYNS</th>\n",
       "      <th>AFFGEOID</th>\n",
       "      <th>GEOID</th>\n",
       "      <th>NAME</th>\n",
       "      <th>LSAD</th>\n",
       "      <th>ALAND</th>\n",
       "      <th>AWATER</th>\n",
       "      <th>geometry</th>\n",
       "    </tr>\n",
       "  </thead>\n",
       "  <tbody>\n",
       "    <tr>\n",
       "      <th>0</th>\n",
       "      <td>20</td>\n",
       "      <td>175</td>\n",
       "      <td>00485050</td>\n",
       "      <td>0500000US20175</td>\n",
       "      <td>20175</td>\n",
       "      <td>Seward</td>\n",
       "      <td>06</td>\n",
       "      <td>1655865960</td>\n",
       "      <td>2777350</td>\n",
       "      <td>POLYGON ((-101.06790 37.38778, -100.65273 37.3...</td>\n",
       "    </tr>\n",
       "    <tr>\n",
       "      <th>1</th>\n",
       "      <td>28</td>\n",
       "      <td>141</td>\n",
       "      <td>00695791</td>\n",
       "      <td>0500000US28141</td>\n",
       "      <td>28141</td>\n",
       "      <td>Tishomingo</td>\n",
       "      <td>06</td>\n",
       "      <td>1098939230</td>\n",
       "      <td>52359814</td>\n",
       "      <td>POLYGON ((-88.36353 34.99575, -88.25811 34.995...</td>\n",
       "    </tr>\n",
       "    <tr>\n",
       "      <th>2</th>\n",
       "      <td>36</td>\n",
       "      <td>101</td>\n",
       "      <td>00974148</td>\n",
       "      <td>0500000US36101</td>\n",
       "      <td>36101</td>\n",
       "      <td>Steuben</td>\n",
       "      <td>06</td>\n",
       "      <td>3601566799</td>\n",
       "      <td>34993606</td>\n",
       "      <td>POLYGON ((-77.72296 42.47122, -77.72062 42.535...</td>\n",
       "    </tr>\n",
       "    <tr>\n",
       "      <th>3</th>\n",
       "      <td>50</td>\n",
       "      <td>013</td>\n",
       "      <td>01461763</td>\n",
       "      <td>0500000US50013</td>\n",
       "      <td>50013</td>\n",
       "      <td>Grand Isle</td>\n",
       "      <td>06</td>\n",
       "      <td>211894597</td>\n",
       "      <td>292303559</td>\n",
       "      <td>POLYGON ((-73.38997 44.61962, -73.36556 44.700...</td>\n",
       "    </tr>\n",
       "    <tr>\n",
       "      <th>4</th>\n",
       "      <td>05</td>\n",
       "      <td>065</td>\n",
       "      <td>00066860</td>\n",
       "      <td>0500000US05065</td>\n",
       "      <td>05065</td>\n",
       "      <td>Izard</td>\n",
       "      <td>06</td>\n",
       "      <td>1503685418</td>\n",
       "      <td>8912603</td>\n",
       "      <td>POLYGON ((-92.21390 36.17510, -92.15986 36.173...</td>\n",
       "    </tr>\n",
       "  </tbody>\n",
       "</table>\n",
       "</div>"
      ],
      "text/plain": [
       "  STATEFP COUNTYFP  COUNTYNS        AFFGEOID  GEOID        NAME LSAD  \\\n",
       "0      20      175  00485050  0500000US20175  20175      Seward   06   \n",
       "1      28      141  00695791  0500000US28141  28141  Tishomingo   06   \n",
       "2      36      101  00974148  0500000US36101  36101     Steuben   06   \n",
       "3      50      013  01461763  0500000US50013  50013  Grand Isle   06   \n",
       "4      05      065  00066860  0500000US05065  05065       Izard   06   \n",
       "\n",
       "        ALAND     AWATER                                           geometry  \n",
       "0  1655865960    2777350  POLYGON ((-101.06790 37.38778, -100.65273 37.3...  \n",
       "1  1098939230   52359814  POLYGON ((-88.36353 34.99575, -88.25811 34.995...  \n",
       "2  3601566799   34993606  POLYGON ((-77.72296 42.47122, -77.72062 42.535...  \n",
       "3   211894597  292303559  POLYGON ((-73.38997 44.61962, -73.36556 44.700...  \n",
       "4  1503685418    8912603  POLYGON ((-92.21390 36.17510, -92.15986 36.173...  "
      ]
     },
     "execution_count": 3,
     "metadata": {},
     "output_type": "execute_result"
    }
   ],
   "source": [
    "geo.head()"
   ]
  },
  {
   "cell_type": "code",
   "execution_count": 4,
   "metadata": {},
   "outputs": [
    {
     "data": {
      "text/plain": [
       "(3220, 10)"
      ]
     },
     "execution_count": 4,
     "metadata": {},
     "output_type": "execute_result"
    }
   ],
   "source": [
    "geo.shape"
   ]
  },
  {
   "cell_type": "code",
   "execution_count": 11,
   "metadata": {},
   "outputs": [],
   "source": [
    "geo_data = pd.DataFrame(geo)"
   ]
  },
  {
   "cell_type": "code",
   "execution_count": 12,
   "metadata": {},
   "outputs": [],
   "source": [
    "dataset = [ed_data, pop_data, pov_data, unm_data, geo_data]"
   ]
  },
  {
   "cell_type": "code",
   "execution_count": 13,
   "metadata": {},
   "outputs": [
    {
     "data": {
      "text/plain": [
       "STATEFP       object\n",
       "COUNTYFP      object\n",
       "COUNTYNS      object\n",
       "AFFGEOID      object\n",
       "GEOID         object\n",
       "NAME          object\n",
       "LSAD          object\n",
       "ALAND          int64\n",
       "AWATER         int64\n",
       "geometry    geometry\n",
       "dtype: object"
      ]
     },
     "execution_count": 13,
     "metadata": {},
     "output_type": "execute_result"
    }
   ],
   "source": [
    "geo_data.dtypes"
   ]
  },
  {
   "cell_type": "code",
   "execution_count": 15,
   "metadata": {},
   "outputs": [],
   "source": [
    "geo_data['GEOID'] = geo_data['GEOID'].astype(int)"
   ]
  },
  {
   "cell_type": "code",
   "execution_count": 18,
   "metadata": {},
   "outputs": [],
   "source": [
    "pop_data.dropna(how='all', inplace=True)"
   ]
  },
  {
   "cell_type": "code",
   "execution_count": 19,
   "metadata": {},
   "outputs": [
    {
     "data": {
      "text/plain": [
       "FIPS                               float64\n",
       "State                               object\n",
       "Area_Name                           object\n",
       "Rural-urban_Continuum Code_2003    float64\n",
       "Rural-urban_Continuum Code_2013    float64\n",
       "                                    ...   \n",
       "R_NET_MIG_2014                     float64\n",
       "R_NET_MIG_2015                     float64\n",
       "R_NET_MIG_2016                     float64\n",
       "R_NET_MIG_2017                     float64\n",
       "R_NET_MIG_2018                     float64\n",
       "Length: 149, dtype: object"
      ]
     },
     "execution_count": 19,
     "metadata": {},
     "output_type": "execute_result"
    }
   ],
   "source": [
    "pop_data.dtypes"
   ]
  },
  {
   "cell_type": "code",
   "execution_count": 20,
   "metadata": {},
   "outputs": [],
   "source": [
    "pop_data['FIPS'] = pop_data['FIPS'].astype(int)"
   ]
  },
  {
   "cell_type": "code",
   "execution_count": 21,
   "metadata": {},
   "outputs": [
    {
     "data": {
      "text/plain": [
       "FIPS                                 int64\n",
       "State                               object\n",
       "Area_Name                           object\n",
       "Rural-urban_Continuum Code_2003    float64\n",
       "Rural-urban_Continuum Code_2013    float64\n",
       "                                    ...   \n",
       "R_NET_MIG_2014                     float64\n",
       "R_NET_MIG_2015                     float64\n",
       "R_NET_MIG_2016                     float64\n",
       "R_NET_MIG_2017                     float64\n",
       "R_NET_MIG_2018                     float64\n",
       "Length: 149, dtype: object"
      ]
     },
     "execution_count": 21,
     "metadata": {},
     "output_type": "execute_result"
    }
   ],
   "source": [
    "pop_data.dtypes"
   ]
  },
  {
   "cell_type": "code",
   "execution_count": null,
   "metadata": {},
   "outputs": [],
   "source": []
  }
 ],
 "metadata": {
  "kernelspec": {
   "display_name": "Python 3",
   "language": "python",
   "name": "python3"
  },
  "language_info": {
   "codemirror_mode": {
    "name": "ipython",
    "version": 3
   },
   "file_extension": ".py",
   "mimetype": "text/x-python",
   "name": "python",
   "nbconvert_exporter": "python",
   "pygments_lexer": "ipython3",
   "version": "3.8.1"
  }
 },
 "nbformat": 4,
 "nbformat_minor": 4
}
